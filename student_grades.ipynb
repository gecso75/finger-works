{
 "cells": [
  {
   "cell_type": "markdown",
   "metadata": {},
   "source": [
    "ref: https://github.com/gecso75/finger-works/blob/main/xAPI-Edu-Data-desc.txt"
   ]
  },
  {
   "cell_type": "code",
   "execution_count": 1,
   "metadata": {},
   "outputs": [
    {
     "name": "stderr",
     "output_type": "stream",
     "text": [
      "Using TensorFlow backend.\n"
     ]
    }
   ],
   "source": [
    "import requests\n",
    "import io\n",
    "import numpy as np\n",
    "from pandas import read_csv\n",
    "from sklearn.preprocessing import StandardScaler\n",
    "from sklearn.preprocessing import OneHotEncoder\n",
    "from sklearn.compose import ColumnTransformer\n",
    "from sklearn.preprocessing import LabelBinarizer\n",
    "from sklearn.model_selection import train_test_split\n",
    "from keras.models import Sequential\n",
    "from keras.layers import Dense\n",
    "from keras.callbacks import ReduceLROnPlateau\n",
    "from keras.optimizers import Adadelta\n",
    "from keras.regularizers import l1\n",
    "from keras.layers import Dropout\n",
    "from sklearn.metrics import confusion_matrix\n",
    "from sklearn.metrics import classification_report\n",
    "from matplotlib import pyplot"
   ]
  },
  {
   "cell_type": "code",
   "execution_count": 2,
   "metadata": {},
   "outputs": [],
   "source": [
    "url = \"https://raw.githubusercontent.com/gecso75/finger-works/main/xAPI-Edu-Data.csv\"\n",
    "download = requests.get(url).content\n",
    "df = read_csv(io.StringIO(download.decode('utf-8')))"
   ]
  },
  {
   "cell_type": "code",
   "execution_count": 3,
   "metadata": {},
   "outputs": [
    {
     "data": {
      "text/html": [
       "<div>\n",
       "<style scoped>\n",
       "    .dataframe tbody tr th:only-of-type {\n",
       "        vertical-align: middle;\n",
       "    }\n",
       "\n",
       "    .dataframe tbody tr th {\n",
       "        vertical-align: top;\n",
       "    }\n",
       "\n",
       "    .dataframe thead th {\n",
       "        text-align: right;\n",
       "    }\n",
       "</style>\n",
       "<table border=\"1\" class=\"dataframe\">\n",
       "  <thead>\n",
       "    <tr style=\"text-align: right;\">\n",
       "      <th></th>\n",
       "      <th>gender</th>\n",
       "      <th>NationalITy</th>\n",
       "      <th>PlaceofBirth</th>\n",
       "      <th>StageID</th>\n",
       "      <th>GradeID</th>\n",
       "      <th>SectionID</th>\n",
       "      <th>Topic</th>\n",
       "      <th>Semester</th>\n",
       "      <th>Relation</th>\n",
       "      <th>raisedhands</th>\n",
       "      <th>VisITedResources</th>\n",
       "      <th>AnnouncementsView</th>\n",
       "      <th>Discussion</th>\n",
       "      <th>ParentAnsweringSurvey</th>\n",
       "      <th>ParentschoolSatisfaction</th>\n",
       "      <th>StudentAbsenceDays</th>\n",
       "      <th>Class</th>\n",
       "    </tr>\n",
       "  </thead>\n",
       "  <tbody>\n",
       "    <tr>\n",
       "      <th>0</th>\n",
       "      <td>M</td>\n",
       "      <td>KW</td>\n",
       "      <td>KuwaIT</td>\n",
       "      <td>lowerlevel</td>\n",
       "      <td>G-04</td>\n",
       "      <td>A</td>\n",
       "      <td>IT</td>\n",
       "      <td>F</td>\n",
       "      <td>Father</td>\n",
       "      <td>15</td>\n",
       "      <td>16</td>\n",
       "      <td>2</td>\n",
       "      <td>20</td>\n",
       "      <td>Yes</td>\n",
       "      <td>Good</td>\n",
       "      <td>Under-7</td>\n",
       "      <td>M</td>\n",
       "    </tr>\n",
       "    <tr>\n",
       "      <th>1</th>\n",
       "      <td>M</td>\n",
       "      <td>KW</td>\n",
       "      <td>KuwaIT</td>\n",
       "      <td>lowerlevel</td>\n",
       "      <td>G-04</td>\n",
       "      <td>A</td>\n",
       "      <td>IT</td>\n",
       "      <td>F</td>\n",
       "      <td>Father</td>\n",
       "      <td>20</td>\n",
       "      <td>20</td>\n",
       "      <td>3</td>\n",
       "      <td>25</td>\n",
       "      <td>Yes</td>\n",
       "      <td>Good</td>\n",
       "      <td>Under-7</td>\n",
       "      <td>M</td>\n",
       "    </tr>\n",
       "    <tr>\n",
       "      <th>2</th>\n",
       "      <td>M</td>\n",
       "      <td>KW</td>\n",
       "      <td>KuwaIT</td>\n",
       "      <td>lowerlevel</td>\n",
       "      <td>G-04</td>\n",
       "      <td>A</td>\n",
       "      <td>IT</td>\n",
       "      <td>F</td>\n",
       "      <td>Father</td>\n",
       "      <td>10</td>\n",
       "      <td>7</td>\n",
       "      <td>0</td>\n",
       "      <td>30</td>\n",
       "      <td>No</td>\n",
       "      <td>Bad</td>\n",
       "      <td>Above-7</td>\n",
       "      <td>L</td>\n",
       "    </tr>\n",
       "    <tr>\n",
       "      <th>3</th>\n",
       "      <td>M</td>\n",
       "      <td>KW</td>\n",
       "      <td>KuwaIT</td>\n",
       "      <td>lowerlevel</td>\n",
       "      <td>G-04</td>\n",
       "      <td>A</td>\n",
       "      <td>IT</td>\n",
       "      <td>F</td>\n",
       "      <td>Father</td>\n",
       "      <td>30</td>\n",
       "      <td>25</td>\n",
       "      <td>5</td>\n",
       "      <td>35</td>\n",
       "      <td>No</td>\n",
       "      <td>Bad</td>\n",
       "      <td>Above-7</td>\n",
       "      <td>L</td>\n",
       "    </tr>\n",
       "    <tr>\n",
       "      <th>4</th>\n",
       "      <td>M</td>\n",
       "      <td>KW</td>\n",
       "      <td>KuwaIT</td>\n",
       "      <td>lowerlevel</td>\n",
       "      <td>G-04</td>\n",
       "      <td>A</td>\n",
       "      <td>IT</td>\n",
       "      <td>F</td>\n",
       "      <td>Father</td>\n",
       "      <td>40</td>\n",
       "      <td>50</td>\n",
       "      <td>12</td>\n",
       "      <td>50</td>\n",
       "      <td>No</td>\n",
       "      <td>Bad</td>\n",
       "      <td>Above-7</td>\n",
       "      <td>M</td>\n",
       "    </tr>\n",
       "  </tbody>\n",
       "</table>\n",
       "</div>"
      ],
      "text/plain": [
       "  gender NationalITy PlaceofBirth     StageID GradeID SectionID Topic  \\\n",
       "0      M          KW       KuwaIT  lowerlevel    G-04         A    IT   \n",
       "1      M          KW       KuwaIT  lowerlevel    G-04         A    IT   \n",
       "2      M          KW       KuwaIT  lowerlevel    G-04         A    IT   \n",
       "3      M          KW       KuwaIT  lowerlevel    G-04         A    IT   \n",
       "4      M          KW       KuwaIT  lowerlevel    G-04         A    IT   \n",
       "\n",
       "  Semester Relation  raisedhands  VisITedResources  AnnouncementsView  \\\n",
       "0        F   Father           15                16                  2   \n",
       "1        F   Father           20                20                  3   \n",
       "2        F   Father           10                 7                  0   \n",
       "3        F   Father           30                25                  5   \n",
       "4        F   Father           40                50                 12   \n",
       "\n",
       "   Discussion ParentAnsweringSurvey ParentschoolSatisfaction  \\\n",
       "0          20                   Yes                     Good   \n",
       "1          25                   Yes                     Good   \n",
       "2          30                    No                      Bad   \n",
       "3          35                    No                      Bad   \n",
       "4          50                    No                      Bad   \n",
       "\n",
       "  StudentAbsenceDays Class  \n",
       "0            Under-7     M  \n",
       "1            Under-7     M  \n",
       "2            Above-7     L  \n",
       "3            Above-7     L  \n",
       "4            Above-7     M  "
      ]
     },
     "execution_count": 3,
     "metadata": {},
     "output_type": "execute_result"
    }
   ],
   "source": [
    "df.head()"
   ]
  },
  {
   "cell_type": "code",
   "execution_count": 4,
   "metadata": {},
   "outputs": [
    {
     "data": {
      "text/plain": [
       "gender                      object\n",
       "NationalITy                 object\n",
       "PlaceofBirth                object\n",
       "StageID                     object\n",
       "GradeID                     object\n",
       "SectionID                   object\n",
       "Topic                       object\n",
       "Semester                    object\n",
       "Relation                    object\n",
       "raisedhands                  int64\n",
       "VisITedResources             int64\n",
       "AnnouncementsView            int64\n",
       "Discussion                   int64\n",
       "ParentAnsweringSurvey       object\n",
       "ParentschoolSatisfaction    object\n",
       "StudentAbsenceDays          object\n",
       "Class                       object\n",
       "dtype: object"
      ]
     },
     "execution_count": 4,
     "metadata": {},
     "output_type": "execute_result"
    }
   ],
   "source": [
    "df.dtypes"
   ]
  },
  {
   "cell_type": "code",
   "execution_count": 5,
   "metadata": {},
   "outputs": [],
   "source": [
    "X = df.copy()\n",
    "y = X.pop('Class')"
   ]
  },
  {
   "cell_type": "code",
   "execution_count": 6,
   "metadata": {},
   "outputs": [],
   "source": [
    "trans1 = ColumnTransformer([\n",
    "    ('tr1', OneHotEncoder(drop='first'), [0, 1, 2, 3, 4, 5, 6, 7, 8, 13, 14, 15])],\n",
    "    remainder='passthrough',\n",
    "    sparse_threshold=0\n",
    ")\n",
    "X = trans1.fit_transform(X)\n",
    "\n",
    "trans2 = ColumnTransformer([\n",
    "    ('tr1', StandardScaler(), [-1, -2, -3, -4])],\n",
    "    remainder='passthrough'\n",
    ")\n",
    "\n",
    "y_bin = LabelBinarizer().fit_transform(y)"
   ]
  },
  {
   "cell_type": "code",
   "execution_count": 7,
   "metadata": {},
   "outputs": [],
   "source": [
    "train_X, test_X, train_y, test_y = train_test_split(X, y_bin, shuffle=True, test_size=0.2, random_state=1234)"
   ]
  },
  {
   "cell_type": "code",
   "execution_count": 9,
   "metadata": {},
   "outputs": [],
   "source": [
    "model = Sequential()\n",
    "model.add(Dense(18, input_dim=60, activation='relu', kernel_regularizer=l1(l=0.01)))\n",
    "model.add(Dropout(0.20))\n",
    "model.add(Dense(18, activation='relu'))\n",
    "model.add(Dropout(0.20))\n",
    "model.add(Dense(3, activation='softmax'))\n",
    "\n",
    "opt = Adadelta(learning_rate=2.0, rho=0.90, epsilon=1e-7)\n",
    "model.compile(optimizer=opt, loss='categorical_crossentropy', metrics=['categorical_accuracy'])"
   ]
  },
  {
   "cell_type": "code",
   "execution_count": 10,
   "metadata": {
    "scrolled": true
   },
   "outputs": [
    {
     "name": "stdout",
     "output_type": "stream",
     "text": [
      "\n",
      "Epoch 00061: ReduceLROnPlateau reducing learning rate to 1.8.\n",
      "\n",
      "Epoch 00079: ReduceLROnPlateau reducing learning rate to 1.6199999570846557.\n",
      "\n",
      "Epoch 00089: ReduceLROnPlateau reducing learning rate to 1.4580000042915344.\n",
      "\n",
      "Epoch 00109: ReduceLROnPlateau reducing learning rate to 1.3121999502182007.\n",
      "\n",
      "Epoch 00119: ReduceLROnPlateau reducing learning rate to 1.1809799551963807.\n",
      "\n",
      "Epoch 00129: ReduceLROnPlateau reducing learning rate to 1.0628819704055787.\n",
      "\n",
      "Epoch 00142: ReduceLROnPlateau reducing learning rate to 0.9565937519073486.\n",
      "\n",
      "Epoch 00152: ReduceLROnPlateau reducing learning rate to 0.8609343767166138.\n",
      "\n",
      "Epoch 00162: ReduceLROnPlateau reducing learning rate to 0.7748409390449524.\n",
      "\n",
      "Epoch 00172: ReduceLROnPlateau reducing learning rate to 0.6973568558692932.\n",
      "\n",
      "Epoch 00182: ReduceLROnPlateau reducing learning rate to 0.627621191740036.\n",
      "\n",
      "Epoch 00192: ReduceLROnPlateau reducing learning rate to 0.5648590564727783.\n",
      "\n",
      "Epoch 00202: ReduceLROnPlateau reducing learning rate to 0.5083731293678284.\n",
      "\n",
      "Epoch 00212: ReduceLROnPlateau reducing learning rate to 0.4575358271598816.\n",
      "\n",
      "Epoch 00222: ReduceLROnPlateau reducing learning rate to 0.41178224980831146.\n",
      "\n",
      "Epoch 00233: ReduceLROnPlateau reducing learning rate to 0.3706040382385254.\n",
      "\n",
      "Epoch 00249: ReduceLROnPlateau reducing learning rate to 0.3335436344146729.\n",
      "\n",
      "Epoch 00259: ReduceLROnPlateau reducing learning rate to 0.30018926560878756.\n",
      "\n",
      "Epoch 00270: ReduceLROnPlateau reducing learning rate to 0.27017033100128174.\n",
      "\n",
      "Epoch 00280: ReduceLROnPlateau reducing learning rate to 0.24315329790115356.\n",
      "\n",
      "Epoch 00290: ReduceLROnPlateau reducing learning rate to 0.21883797347545625.\n",
      "\n",
      "Epoch 00300: ReduceLROnPlateau reducing learning rate to 0.19695417881011965.\n",
      "\n",
      "Epoch 00310: ReduceLROnPlateau reducing learning rate to 0.17725875824689866.\n",
      "\n",
      "Epoch 00320: ReduceLROnPlateau reducing learning rate to 0.1595328837633133.\n",
      "\n",
      "Epoch 00330: ReduceLROnPlateau reducing learning rate to 0.1435796007514.\n",
      "\n",
      "Epoch 00340: ReduceLROnPlateau reducing learning rate to 0.1292216420173645.\n",
      "\n",
      "Epoch 00350: ReduceLROnPlateau reducing learning rate to 0.11629948318004608.\n",
      "\n",
      "Epoch 00360: ReduceLROnPlateau reducing learning rate to 0.10466953217983246.\n",
      "\n",
      "Epoch 00370: ReduceLROnPlateau reducing learning rate to 0.09420258030295373.\n",
      "\n",
      "Epoch 00380: ReduceLROnPlateau reducing learning rate to 0.08478232026100159.\n",
      "\n",
      "Epoch 00390: ReduceLROnPlateau reducing learning rate to 0.07630408555269241.\n",
      "\n",
      "Epoch 00400: ReduceLROnPlateau reducing learning rate to 0.06867367699742317.\n",
      "\n",
      "Epoch 00410: ReduceLROnPlateau reducing learning rate to 0.06180630996823311.\n",
      "\n",
      "Epoch 00420: ReduceLROnPlateau reducing learning rate to 0.0556256789714098.\n",
      "\n",
      "Epoch 00430: ReduceLROnPlateau reducing learning rate to 0.05006310939788818.\n",
      "\n",
      "Epoch 00440: ReduceLROnPlateau reducing learning rate to 0.04505679979920387.\n",
      "\n",
      "Epoch 00450: ReduceLROnPlateau reducing learning rate to 0.040551121160388.\n",
      "\n",
      "Epoch 00460: ReduceLROnPlateau reducing learning rate to 0.03649601005017757.\n",
      "\n",
      "Epoch 00470: ReduceLROnPlateau reducing learning rate to 0.032846408709883694.\n",
      "\n",
      "Epoch 00480: ReduceLROnPlateau reducing learning rate to 0.029561768844723703.\n",
      "\n",
      "Epoch 00490: ReduceLROnPlateau reducing learning rate to 0.026605592295527457.\n",
      "\n",
      "Epoch 00500: ReduceLROnPlateau reducing learning rate to 0.023945033736526965.\n"
     ]
    }
   ],
   "source": [
    "lrate = ReduceLROnPlateau(monitor='val_loss', factor=0.9, patience=10, verbose=1, mode='min', min_delta=1e-3)\n",
    "history = model.fit(x=trans2.fit_transform(train_X),\n",
    "                    y=train_y,\n",
    "                    batch_size=16,\n",
    "                    validation_data=(trans2.transform(test_X), test_y),\n",
    "                    epochs=500, verbose=0, callbacks=[lrate])"
   ]
  },
  {
   "cell_type": "code",
   "execution_count": 11,
   "metadata": {},
   "outputs": [
    {
     "name": "stdout",
     "output_type": "stream",
     "text": [
      "[[24  0  5]\n",
      " [ 0 19  1]\n",
      " [10  3 34]]\n",
      "              precision    recall  f1-score   support\n",
      "\n",
      "           0       0.71      0.83      0.76        29\n",
      "           1       0.86      0.95      0.90        20\n",
      "           2       0.85      0.72      0.78        47\n",
      "\n",
      "    accuracy                           0.80        96\n",
      "   macro avg       0.81      0.83      0.82        96\n",
      "weighted avg       0.81      0.80      0.80        96\n",
      "\n"
     ]
    }
   ],
   "source": [
    "pred = model.predict_classes(trans2.transform(test_X))\n",
    "print(confusion_matrix(y_true=np.argmax(test_y, axis=-1), y_pred=pred))\n",
    "print(classification_report(y_true=np.argmax(test_y, axis=-1), y_pred=pred))"
   ]
  },
  {
   "cell_type": "code",
   "execution_count": 12,
   "metadata": {},
   "outputs": [
    {
     "data": {
      "image/png": "[encoded data removed]",
      "text/plain": [
       "<Figure size 1440x720 with 2 Axes>"
      ]
     },
     "metadata": {
      "needs_background": "light"
     },
     "output_type": "display_data"
    }
   ],
   "source": [
    "pyplot.figure(figsize=(20, 10))\n",
    "pyplot.subplot(221)\n",
    "pyplot.plot(history.history['loss'], label=\"loss\")\n",
    "pyplot.plot(history.history['val_loss'], label=\"val loss\")\n",
    "pyplot.legend()\n",
    "pyplot.subplot(222)\n",
    "pyplot.plot(history.history['categorical_accuracy'], label=\"acc\")\n",
    "pyplot.plot(history.history['val_categorical_accuracy'], label=\"val acc\")\n",
    "pyplot.legend()\n",
    "pyplot.show()"
   ]
  },
  {
   "cell_type": "markdown",
   "metadata": {},
   "source": [
    "looks like the model is kindly overfitted"
   ]
  }
 ],
 "metadata": {
  "kernelspec": {
   "display_name": "Python 3",
   "language": "python",
   "name": "python3"
  },
  "language_info": {
   "codemirror_mode": {
    "name": "ipython",
    "version": 3
   },
   "file_extension": ".py",
   "mimetype": "text/x-python",
   "name": "python",
   "nbconvert_exporter": "python",
   "pygments_lexer": "ipython3",
   "version": "3.7.7"
  }
 },
 "nbformat": 4,
 "nbformat_minor": 4
}
